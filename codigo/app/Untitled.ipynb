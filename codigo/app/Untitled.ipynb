{
 "cells": [
  {
   "cell_type": "code",
   "execution_count": 1,
   "id": "a8c8dd2d",
   "metadata": {},
   "outputs": [],
   "source": [
    "import requests\n",
    "import pandas as pd"
   ]
  },
  {
   "cell_type": "code",
   "execution_count": 22,
   "id": "1ab7e7fa",
   "metadata": {},
   "outputs": [],
   "source": [
    "a = 1\n",
    "url = \"http://127.0.0.1:5000/predict\"\n",
    "data = {'num_reco': 4, 'news_title': 'Tren Regional del Caribe espera el espaldarazo del Gobierno entrante'}"
   ]
  },
  {
   "cell_type": "code",
   "execution_count": 23,
   "id": "4786ad1e",
   "metadata": {},
   "outputs": [],
   "source": [
    "response = requests.post(url, json=data)"
   ]
  },
  {
   "cell_type": "code",
   "execution_count": 24,
   "id": "165de0e3",
   "metadata": {},
   "outputs": [
    {
     "name": "stdout",
     "output_type": "stream",
     "text": [
      "{\"resultado\":\"[{\\\"news_title\\\":\\\"Suspenden a empresas pedreras por robar agua en Nuevo ...\\\",\\\"subsec\\\":\\\"AUTOMOTORES\\\"},{\\\"news_title\\\":\\\"CICE inaugura servicio 'Altamira Express' de CMA CGM en ...\\\",\\\"subsec\\\":\\\"AUTOMOTORES\\\"},{\\\"news_title\\\":\\\"Por falla en motor, avion de Avianca aterriza de emergencia en Bogota\\\",\\\"subsec\\\":\\\"AUTOMOTORES\\\"},{\\\"news_title\\\":\\\"Nace Cevisama Tech, el escaparete mundial de la innovacion ...\\\",\\\"subsec\\\":\\\"AUTOMOTORES\\\"}]\"}\n",
      "\n"
     ]
    }
   ],
   "source": [
    "print(response.text)"
   ]
  },
  {
   "cell_type": "code",
   "execution_count": 25,
   "id": "d11d2f07",
   "metadata": {},
   "outputs": [
    {
     "data": {
      "text/plain": [
       "'[{\"news_title\":\"Suspenden a empresas pedreras por robar agua en Nuevo ...\",\"subsec\":\"AUTOMOTORES\"},{\"news_title\":\"CICE inaugura servicio \\'Altamira Express\\' de CMA CGM en ...\",\"subsec\":\"AUTOMOTORES\"},{\"news_title\":\"Por falla en motor, avion de Avianca aterriza de emergencia en Bogota\",\"subsec\":\"AUTOMOTORES\"},{\"news_title\":\"Nace Cevisama Tech, el escaparete mundial de la innovacion ...\",\"subsec\":\"AUTOMOTORES\"}]'"
      ]
     },
     "execution_count": 25,
     "metadata": {},
     "output_type": "execute_result"
    }
   ],
   "source": [
    "response.json()['resultado']"
   ]
  },
  {
   "cell_type": "code",
   "execution_count": 26,
   "id": "f6ffa7dc",
   "metadata": {},
   "outputs": [
    {
     "data": {
      "text/plain": [
       "dict_keys(['num_reco', 'news_title'])"
      ]
     },
     "execution_count": 26,
     "metadata": {},
     "output_type": "execute_result"
    }
   ],
   "source": [
    "data.keys()"
   ]
  },
  {
   "cell_type": "code",
   "execution_count": 27,
   "id": "4e0d9812",
   "metadata": {},
   "outputs": [
    {
     "data": {
      "text/html": [
       "<div>\n",
       "<style scoped>\n",
       "    .dataframe tbody tr th:only-of-type {\n",
       "        vertical-align: middle;\n",
       "    }\n",
       "\n",
       "    .dataframe tbody tr th {\n",
       "        vertical-align: top;\n",
       "    }\n",
       "\n",
       "    .dataframe thead th {\n",
       "        text-align: right;\n",
       "    }\n",
       "</style>\n",
       "<table border=\"1\" class=\"dataframe\">\n",
       "  <thead>\n",
       "    <tr style=\"text-align: right;\">\n",
       "      <th></th>\n",
       "      <th>news_title</th>\n",
       "      <th>subsec</th>\n",
       "    </tr>\n",
       "  </thead>\n",
       "  <tbody>\n",
       "    <tr>\n",
       "      <th>0</th>\n",
       "      <td>Suspenden a empresas pedreras por robar agua e...</td>\n",
       "      <td>AUTOMOTORES</td>\n",
       "    </tr>\n",
       "    <tr>\n",
       "      <th>1</th>\n",
       "      <td>CICE inaugura servicio 'Altamira Express' de C...</td>\n",
       "      <td>AUTOMOTORES</td>\n",
       "    </tr>\n",
       "    <tr>\n",
       "      <th>2</th>\n",
       "      <td>Por falla en motor, avion de Avianca aterriza ...</td>\n",
       "      <td>AUTOMOTORES</td>\n",
       "    </tr>\n",
       "    <tr>\n",
       "      <th>3</th>\n",
       "      <td>Nace Cevisama Tech, el escaparete mundial de l...</td>\n",
       "      <td>AUTOMOTORES</td>\n",
       "    </tr>\n",
       "  </tbody>\n",
       "</table>\n",
       "</div>"
      ],
      "text/plain": [
       "                                          news_title       subsec\n",
       "0  Suspenden a empresas pedreras por robar agua e...  AUTOMOTORES\n",
       "1  CICE inaugura servicio 'Altamira Express' de C...  AUTOMOTORES\n",
       "2  Por falla en motor, avion de Avianca aterriza ...  AUTOMOTORES\n",
       "3  Nace Cevisama Tech, el escaparete mundial de l...  AUTOMOTORES"
      ]
     },
     "execution_count": 27,
     "metadata": {},
     "output_type": "execute_result"
    }
   ],
   "source": [
    "pd.read_json(response.json()['resultado'], orient='records')"
   ]
  },
  {
   "cell_type": "code",
   "execution_count": null,
   "id": "c3b93177",
   "metadata": {},
   "outputs": [],
   "source": []
  },
  {
   "cell_type": "code",
   "execution_count": null,
   "id": "4208f04e",
   "metadata": {},
   "outputs": [],
   "source": []
  },
  {
   "cell_type": "code",
   "execution_count": null,
   "id": "f1b0b4c3",
   "metadata": {},
   "outputs": [],
   "source": []
  },
  {
   "cell_type": "code",
   "execution_count": 14,
   "id": "3fb6ad64",
   "metadata": {},
   "outputs": [],
   "source": [
    "import pandas as pd"
   ]
  },
  {
   "cell_type": "code",
   "execution_count": 15,
   "id": "8bdb985c",
   "metadata": {},
   "outputs": [
    {
     "data": {
      "text/html": [
       "<div>\n",
       "<style scoped>\n",
       "    .dataframe tbody tr th:only-of-type {\n",
       "        vertical-align: middle;\n",
       "    }\n",
       "\n",
       "    .dataframe tbody tr th {\n",
       "        vertical-align: top;\n",
       "    }\n",
       "\n",
       "    .dataframe thead th {\n",
       "        text-align: right;\n",
       "    }\n",
       "</style>\n",
       "<table border=\"1\" class=\"dataframe\">\n",
       "  <thead>\n",
       "    <tr style=\"text-align: right;\">\n",
       "      <th></th>\n",
       "      <th>num_reco</th>\n",
       "      <th>news_title</th>\n",
       "    </tr>\n",
       "  </thead>\n",
       "  <tbody>\n",
       "    <tr>\n",
       "      <th>0</th>\n",
       "      <td>num_reco</td>\n",
       "      <td>4</td>\n",
       "    </tr>\n",
       "    <tr>\n",
       "      <th>1</th>\n",
       "      <td>news_title</td>\n",
       "      <td>Tren Regional del Caribe espera el espaldarazo...</td>\n",
       "    </tr>\n",
       "  </tbody>\n",
       "</table>\n",
       "</div>"
      ],
      "text/plain": [
       "     num_reco                                         news_title\n",
       "0    num_reco                                                  4\n",
       "1  news_title  Tren Regional del Caribe espera el espaldarazo..."
      ]
     },
     "execution_count": 15,
     "metadata": {},
     "output_type": "execute_result"
    }
   ],
   "source": [
    "pd.DataFrame(data.items(), columns=data.keys())"
   ]
  },
  {
   "cell_type": "code",
   "execution_count": 9,
   "id": "e847d930",
   "metadata": {},
   "outputs": [
    {
     "data": {
      "text/plain": [
       "dict_items([('parametro1', 1), ('parametro2', 2)])"
      ]
     },
     "execution_count": 9,
     "metadata": {},
     "output_type": "execute_result"
    }
   ],
   "source": [
    "data.items()"
   ]
  },
  {
   "cell_type": "code",
   "execution_count": 15,
   "id": "84e643b0",
   "metadata": {},
   "outputs": [],
   "source": [
    "datos = {'parametro1': [1], 'parametro2': [2]}"
   ]
  },
  {
   "cell_type": "code",
   "execution_count": 17,
   "id": "1cae85a8",
   "metadata": {},
   "outputs": [
    {
     "data": {
      "text/html": [
       "<div>\n",
       "<style scoped>\n",
       "    .dataframe tbody tr th:only-of-type {\n",
       "        vertical-align: middle;\n",
       "    }\n",
       "\n",
       "    .dataframe tbody tr th {\n",
       "        vertical-align: top;\n",
       "    }\n",
       "\n",
       "    .dataframe thead th {\n",
       "        text-align: right;\n",
       "    }\n",
       "</style>\n",
       "<table border=\"1\" class=\"dataframe\">\n",
       "  <thead>\n",
       "    <tr style=\"text-align: right;\">\n",
       "      <th></th>\n",
       "      <th>parametro1</th>\n",
       "      <th>parametro2</th>\n",
       "    </tr>\n",
       "  </thead>\n",
       "  <tbody>\n",
       "    <tr>\n",
       "      <th>0</th>\n",
       "      <td>1</td>\n",
       "      <td>2</td>\n",
       "    </tr>\n",
       "  </tbody>\n",
       "</table>\n",
       "</div>"
      ],
      "text/plain": [
       "   parametro1  parametro2\n",
       "0           1           2"
      ]
     },
     "execution_count": 17,
     "metadata": {},
     "output_type": "execute_result"
    }
   ],
   "source": [
    "pd.DataFrame.from_dict(datos, orient='columns')"
   ]
  },
  {
   "cell_type": "code",
   "execution_count": 27,
   "id": "9f6c7f1c",
   "metadata": {},
   "outputs": [
    {
     "data": {
      "text/plain": [
       "'[{\"parametro1\":1,\"parametro2\":2}]'"
      ]
     },
     "execution_count": 27,
     "metadata": {},
     "output_type": "execute_result"
    }
   ],
   "source": [
    "pd.DataFrame([[1,2]], columns=data.keys()).to_json(orient='records')"
   ]
  },
  {
   "cell_type": "code",
   "execution_count": null,
   "id": "370a75f2",
   "metadata": {},
   "outputs": [],
   "source": []
  },
  {
   "cell_type": "code",
   "execution_count": null,
   "id": "0e86f500",
   "metadata": {},
   "outputs": [],
   "source": []
  },
  {
   "cell_type": "code",
   "execution_count": 10,
   "id": "845c5322",
   "metadata": {},
   "outputs": [],
   "source": [
    "import pandas as pd\n",
    "from gensim import  models\n",
    "from gensim.corpora import Dictionary"
   ]
  },
  {
   "cell_type": "code",
   "execution_count": 11,
   "id": "c80e8bd4",
   "metadata": {},
   "outputs": [],
   "source": [
    "df_news = pd.read_pickle(\"./data.pkl\")  \n",
    "clean_txt = [i.split() for i in df_news['news_text_content_clean'].values]\n",
    "\n",
    "# Creamos la representación de diccionario del documento\n",
    "dictionary = Dictionary(clean_txt)\n",
    "corpus = [dictionary.doc2bow(doc) for doc in clean_txt]\n",
    "\n",
    "model = models.ldamodel.LdaModel.load('model')\n",
    "\n",
    "topic = [model.get_document_topics(item)[0][0] for item in corpus]\n",
    "topic_proba = [model.get_document_topics(item)[0][1] for item in corpus]\n",
    "\n",
    "df_news['topic'] = topic\n",
    "df_news['topic_proba'] = topic_proba"
   ]
  },
  {
   "cell_type": "code",
   "execution_count": 14,
   "id": "48c1bcd1",
   "metadata": {},
   "outputs": [
    {
     "data": {
      "text/plain": [
       "'Tren Regional del Caribe espera el espaldarazo del Gobierno entrante'"
      ]
     },
     "execution_count": 14,
     "metadata": {},
     "output_type": "execute_result"
    }
   ],
   "source": [
    "df_news['news_title'][5]"
   ]
  },
  {
   "cell_type": "code",
   "execution_count": null,
   "id": "115db628",
   "metadata": {},
   "outputs": [],
   "source": []
  },
  {
   "cell_type": "code",
   "execution_count": null,
   "id": "f90851ab",
   "metadata": {},
   "outputs": [],
   "source": []
  },
  {
   "cell_type": "code",
   "execution_count": null,
   "id": "0dc7dff7",
   "metadata": {},
   "outputs": [],
   "source": []
  },
  {
   "cell_type": "code",
   "execution_count": 2,
   "id": "db3f5bb6",
   "metadata": {},
   "outputs": [],
   "source": [
    "#!/usr/bin/env python\n",
    "# coding: utf-8\n",
    "\n",
    "import pandas as pd\n",
    "import streamlit as st\n",
    "from gensim import  models\n",
    "from gensim.corpora import Dictionary\n",
    "import requests\n",
    "\n",
    "st.title (\"Sistema de Recomendación de Noticias Sobre Clientes Corporativos\")\n",
    "#st.header(\"Seguimiento de Datos de Entrada\")\n",
    "st.caption(\"Seguimiento de Datos de Entrada\")\n",
    "\n",
    "#st.markdown(\"this is the header\")\n",
    "#st.subheader(\"this is the subheader\")\n",
    "#st.caption(\"this is the caption\")\n",
    "#st.code(\"x=2021\")\n",
    "#st.latex(r''' a+a r^1+a r^2+a r^3 ''')\n",
    "\n",
    "#####################\n",
    "\n",
    "clientes = pd.read_csv('./clientes.csv')\n",
    "df_cli =  ((clientes.desc_ciiuu_clase.value_counts()/len(clientes))*100).round(2)\n",
    "df_cli = df_cli.reset_index().rename({'index':'Actividad Económica', 'desc_ciiuu_clase':'% Noticias'}, axis=1).copy()\n",
    "df_cli['% Noticias'] = df_cli['% Noticias'].astype(str) + '%'\n",
    "\n",
    "###################################################\n",
    "st.header(\"Actividad Económica Principales\")\n",
    "st.dataframe(df_cli)\n",
    "\n",
    "#######################################\n",
    "#Tópicos\n",
    "#Métricas de Evaluación\n",
    "#st.header(\"Tópicos\")\n",
    "#st.header(\"Métricas de Evaluación\")\n",
    "\n",
    "#######################################\n",
    "\n",
    "df_news = pd.read_pickle(\"./data.pkl\")  \n",
    "clean_txt = [i.split() for i in df_news['news_text_content_clean'].values]\n",
    "\n",
    "\n",
    "# Creamos la representación de diccionario del documento\n",
    "dictionary = Dictionary(clean_txt)\n",
    "corpus = [dictionary.doc2bow(doc) for doc in clean_txt]\n",
    "\n",
    "model = models.ldamodel.LdaModel.load('model')\n",
    "\n",
    "topic = [model.get_document_topics(item)[0][0] for item in corpus]\n",
    "topic_proba = [model.get_document_topics(item)[0][1] for item in corpus]\n",
    "\n",
    "df_news['topic'] = topic\n",
    "df_news['topic_proba'] = topic_proba\n",
    "\n",
    "def recomendador_lda(news_title, df, num_reco):\n",
    "    topic_new = df[df.news_title == news_title].topic.values[0]\n",
    "    subsec_new = df[df.news_title == news_title].subsec.values[0]\n",
    "    df = df[df.subsec == subsec_new]\n",
    "    df = df[df.news_title != news_title].copy()\n",
    "\n",
    "    return df[df.topic == topic_new].sort_values(by='topic_proba', ascending=False)[['news_title',\t'subsec']].reset_index(drop=True)[0:num_reco]\n",
    "\n",
    "st.header(\"Sistema de recomendación\")\n",
    "#new = 2\n",
    "\n",
    "new = st.selectbox(\n",
    "   \"Noticia:\",\n",
    "   df_news.news_title,\n",
    "   index=None,\n",
    "   placeholder=\"Elige la Noticia\",\n",
    ")\n",
    "if (new != None):\n",
    "    new_id = df_news[df_news.news_title == new].index[0]\n",
    "\n",
    "#num_reco = 2\n",
    "\n",
    "num_reco = st.selectbox(\n",
    "   \"Número de recomendaciones\",\n",
    "   list(range(2, 6)),\n",
    "   index=None,\n",
    "   placeholder=\"Elige el número de recomendaciones\",\n",
    ")\n",
    "\n",
    "#st.write('You selected:', option)\n",
    "\n",
    "#reco_id = 0\n",
    "\n",
    "if (new != None) and (num_reco != None):\n",
    "    url = \"http://127.0.0.1:5000/predict\"\n",
    "    data = {'num_reco': num_reco, 'news_title': df_news.news_title[new_id]}\n",
    "    response = requests.post(url, json=data)\n",
    "    df = pd.read_json(response.json()['resultado'], orient='records')\n",
    "    df = df.rename({'news_title':'Noticia', 'subsec':'Actividad Económica Principal'}, axis=1)\n",
    "    st.dataframe(df)"
   ]
  },
  {
   "cell_type": "code",
   "execution_count": null,
   "id": "56497f19",
   "metadata": {},
   "outputs": [],
   "source": []
  },
  {
   "cell_type": "code",
   "execution_count": null,
   "id": "a08efddc",
   "metadata": {},
   "outputs": [],
   "source": []
  },
  {
   "cell_type": "code",
   "execution_count": null,
   "id": "ab9d769b",
   "metadata": {},
   "outputs": [],
   "source": []
  }
 ],
 "metadata": {
  "kernelspec": {
   "display_name": "Python 3 (ipykernel)",
   "language": "python",
   "name": "python3"
  },
  "language_info": {
   "codemirror_mode": {
    "name": "ipython",
    "version": 3
   },
   "file_extension": ".py",
   "mimetype": "text/x-python",
   "name": "python",
   "nbconvert_exporter": "python",
   "pygments_lexer": "ipython3",
   "version": "3.10.9"
  }
 },
 "nbformat": 4,
 "nbformat_minor": 5
}
